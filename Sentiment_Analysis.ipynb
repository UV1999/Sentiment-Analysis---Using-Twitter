{
  "nbformat": 4,
  "nbformat_minor": 0,
  "metadata": {
    "colab": {
      "name": "Sentiment_Analysis.ipynb",
      "version": "0.3.2",
      "provenance": [],
      "collapsed_sections": []
    },
    "kernelspec": {
      "name": "python3",
      "display_name": "Python 3"
    }
  },
  "cells": [
    {
      "metadata": {
        "id": "nMx2UqrJFyw-",
        "colab_type": "code",
        "colab": {}
      },
      "cell_type": "code",
      "source": [
        "!pip install pandas\n",
        "!pip install tweepy\n",
        "!pip install vaderSentiment"
      ],
      "execution_count": 0,
      "outputs": []
    },
    {
      "metadata": {
        "id": "VldzdttbGRT6",
        "colab_type": "code",
        "colab": {}
      },
      "cell_type": "code",
      "source": [
        "import tweepy\n",
        "import pandas as pd\n",
        "from nltk.sentiment.vader import SentimentIntensityAnalyzer"
      ],
      "execution_count": 0,
      "outputs": []
    },
    {
      "metadata": {
        "id": "xoeDu5guGo-N",
        "colab_type": "code",
        "colab": {}
      },
      "cell_type": "code",
      "source": [
        "#My Twitter API Authentication Variables\n",
        "consumer_key = 'Your Consumer Key'\n",
        "consumer_secret = 'Your Consumer Secret'\n",
        "access_token = 'Your Access Token'\n",
        "access_token_secret = 'Your Access Token Secret'"
      ],
      "execution_count": 0,
      "outputs": []
    },
    {
      "metadata": {
        "id": "i41rn4KkG-iz",
        "colab_type": "code",
        "colab": {}
      },
      "cell_type": "code",
      "source": [
        "auth = tweepy.OAuthHandler(consumer_key, consumer_secret)\n",
        "auth.set_access_token(access_token, access_token_secret)\n",
        "\n",
        "api = tweepy.API(auth)\n",
        "\n",
        "c = 100\n",
        "\n",
        "tweets = api.search('Pulwama attack', count=c)\n",
        "\n",
        "\n",
        "data = pd.DataFrame(data=[tweet.text for tweet in tweets], columns=['Tweets'])\n",
        "\n",
        "display(data.head(10))\n",
        "\n",
        "\n",
        "print(tweets[0].created_at)\n"
      ],
      "execution_count": 0,
      "outputs": []
    },
    {
      "metadata": {
        "id": "6k_z5lpRIN4t",
        "colab_type": "code",
        "colab": {}
      },
      "cell_type": "code",
      "source": [
        "import nltk\n",
        "nltk.download('vader_lexicon')"
      ],
      "execution_count": 0,
      "outputs": []
    },
    {
      "metadata": {
        "id": "kQiYGQEqIZ3w",
        "colab_type": "code",
        "colab": {}
      },
      "cell_type": "code",
      "source": [
        "sid = SentimentIntensityAnalyzer()\n",
        "\n",
        "\n",
        "listy = []\n",
        "listy2 = []\n",
        "listy3 = []\n",
        "\n",
        "pos = 0\n",
        "neg = 0\n",
        "neu = 0\n",
        "\n",
        "for index, row in data.iterrows():\n",
        "  \n",
        "  ss = sid.polarity_scores(row[\"Tweets\"])\n",
        "  listy.append(ss)\n",
        "  \n",
        "  sentiment_dict = sid.polarity_scores(row[\"Tweets\"]) \n",
        "  #print(sentiment_dict)\n",
        "  if sentiment_dict['compound'] < 0 :\n",
        "    neg += 1\n",
        "    listy2.append('Negative')\n",
        "    listy3.append(sentiment_dict['compound'])\n",
        "  elif sentiment_dict['compound'] > 0:\n",
        "    pos += 1\n",
        "    listy2.append('Positive')\n",
        "    listy3.append(sentiment_dict['compound'])\n",
        "  else :\n",
        "    neu += 1\n",
        "    listy2.append('Neutral')\n",
        "    listy3.append(sentiment_dict['compound'])\n",
        "   \n",
        "   \n",
        "\n",
        "per = pd.Series(listy2)\n",
        "se = pd.Series(listy)\n",
        "num = pd.Series(listy3)\n",
        "\n",
        "data['polarity'] = se.values\n",
        "data['percentage'] = per.values\n",
        "data['number'] = num.values\n",
        "\n",
        "display(data.head(10))\n",
        "\n",
        "print(pos)\n",
        "print(neg)\n",
        "print(neu)\n",
        "\n",
        "p = 100*pos\n",
        "n = 100*neg\n",
        "ne = 100*neu\n",
        "\n",
        "print(\"Positive tweets percentage: {} %\".format(p/c))\n",
        "print(\"Negative tweets percentage: {} %\".format(n/c))\n",
        "print(\"Neutral tweets percentage: {} %\".format(ne/c))"
      ],
      "execution_count": 0,
      "outputs": []
    },
    {
      "metadata": {
        "id": "HbyWLkh7Eh_k",
        "colab_type": "code",
        "colab": {}
      },
      "cell_type": "code",
      "source": [
        "import matplotlib.pyplot as plt"
      ],
      "execution_count": 0,
      "outputs": []
    },
    {
      "metadata": {
        "id": "FZ4mXlBLEjLj",
        "colab_type": "code",
        "colab": {}
      },
      "cell_type": "code",
      "source": [
        "#print(per)\n",
        "df = pd.DataFrame(num,columns=['sentiment'])\n",
        "df.plot()"
      ],
      "execution_count": 0,
      "outputs": []
    },
    {
      "metadata": {
        "id": "zGQrQclXL_E4",
        "colab_type": "code",
        "colab": {}
      },
      "cell_type": "code",
      "source": [
        ""
      ],
      "execution_count": 0,
      "outputs": []
    },
    {
      "metadata": {
        "id": "xL5ZjeX7_KCj",
        "colab_type": "code",
        "colab": {}
      },
      "cell_type": "code",
      "source": [
        "values = [pos,neg,neu]\n",
        "colors = ['g','r','b']\n",
        "labels = ['Positive','Negative','Neutral']\n",
        "explode = [0,0.2,0]\n",
        "plt.pie(values,colors=colors,labels=values,explode=explode,counterclock = False)\n",
        "plt.title('Pulwama Attack Twitter Sentiment Analysis')\n",
        "plt.legend(labels,loc=1)\n",
        "plt.show()"
      ],
      "execution_count": 0,
      "outputs": []
    }
  ]
}
